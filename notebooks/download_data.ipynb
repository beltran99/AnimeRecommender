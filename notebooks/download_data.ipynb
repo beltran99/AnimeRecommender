{
 "cells": [
  {
   "cell_type": "code",
   "execution_count": null,
   "metadata": {},
   "outputs": [],
   "source": [
    "import time\n",
    "\n",
    "import pandas as pd\n",
    "import numpy as np\n",
    "\n",
    "import sys\n",
    "if \"..\" not in sys.path:\n",
    "    sys.path.insert(0, \"..\")\n",
    "\n",
    "from src.dataset.download_data import get_anime_data, get_anime_episodes\n",
    "from src.dataset.preprocessing import preprocess_anime_data"
   ]
  },
  {
   "cell_type": "code",
   "execution_count": null,
   "metadata": {},
   "outputs": [],
   "source": [
    "anime = pd.read_csv(\"../data/external/anime.csv\", encoding=\"utf-8\")"
   ]
  },
  {
   "cell_type": "code",
   "execution_count": null,
   "metadata": {},
   "outputs": [],
   "source": [
    "anime.head()"
   ]
  },
  {
   "cell_type": "markdown",
   "metadata": {},
   "source": [
    "# Gather more Anime metadata: english title and release date"
   ]
  },
  {
   "cell_type": "code",
   "execution_count": null,
   "metadata": {},
   "outputs": [],
   "source": [
    "var_names = ['title_english', 'year']\n",
    "\n",
    "anime_ids = []\n",
    "titles = []\n",
    "release_dates = []\n",
    "\n",
    "request_counter = 0\n",
    "total_requests = len(anime.index.values)\n",
    "\n",
    "requests_per_minute = 0\n",
    "requests_per_second = 0\n",
    "\n",
    "max_requests_per_second = 2\n",
    "max_requests_per_minute = 59\n",
    "\n",
    "for anime_id in anime.index.values:\n",
    "\n",
    "    if requests_per_second == max_requests_per_second:\n",
    "        time.sleep(2.5)\n",
    "        requests_per_second = 0\n",
    "    if requests_per_minute == max_requests_per_minute:\n",
    "        time.sleep(5)\n",
    "        requests_per_minute = 0\n",
    "\n",
    "    data = get_anime_data(anime_id, var_names)\n",
    "    if len(data) > 0:\n",
    "        title, year = data\n",
    "    else:\n",
    "        title = None\n",
    "        year = None\n",
    "    \n",
    "    anime_ids.append(int(anime_id))\n",
    "    titles.append(title)\n",
    "    if year is not None:\n",
    "        release_dates.append(year)\n",
    "    else:\n",
    "        release_dates.append(np.nan)\n",
    "    \n",
    "    requests_per_second += 1\n",
    "    requests_per_minute += 1\n",
    "\n",
    "    request_counter += 1\n",
    "    print(f\"{request_counter} out of {total_requests} requests completed\")"
   ]
  },
  {
   "cell_type": "code",
   "execution_count": null,
   "metadata": {},
   "outputs": [],
   "source": [
    "df = pd.DataFrame({\n",
    "    'anime_id': anime_ids,\n",
    "    'en_title': titles,\n",
    "    'year': release_dates\n",
    "})\n",
    "df.to_csv('../data/raw/anime_metadata.csv', index=False)"
   ]
  },
  {
   "cell_type": "code",
   "execution_count": null,
   "metadata": {},
   "outputs": [],
   "source": [
    "dates_df = pd.DataFrame({\n",
    "    'anime_id': anime_ids,\n",
    "    'year': release_dates\n",
    "})\n",
    "dates_df.to_csv('../data/raw/anime_dates.csv', index=False)"
   ]
  },
  {
   "cell_type": "markdown",
   "metadata": {},
   "source": [
    "# Update Episode feature for animes not airing anymore"
   ]
  },
  {
   "cell_type": "code",
   "execution_count": null,
   "metadata": {},
   "outputs": [],
   "source": [
    "var_names = ['episodes']\n",
    "\n",
    "df = anime[anime.episodes == 'Unknown']\n",
    "\n",
    "anime_ids = []\n",
    "episodes = []\n",
    "\n",
    "request_counter = 0\n",
    "total_requests = len(df.index.values)\n",
    "\n",
    "requests_per_minute = 0\n",
    "requests_per_second = 0\n",
    "\n",
    "max_requests_per_second = 2\n",
    "max_requests_per_minute = 59\n",
    "\n",
    "for anime_id in df.index.values:\n",
    "\n",
    "    if requests_per_second == max_requests_per_second:\n",
    "        time.sleep(2.5)\n",
    "        requests_per_second = 0\n",
    "    if requests_per_minute == max_requests_per_minute:\n",
    "        time.sleep(5)\n",
    "        requests_per_minute = 0\n",
    "\n",
    "    data = get_anime_data(anime_id, var_names)\n",
    "    if len(data) > 0:\n",
    "        nb_eps = data[0]\n",
    "    else:\n",
    "        nb_eps = None\n",
    "    \n",
    "    anime_ids.append(int(anime_id))\n",
    "    if nb_eps is not None:\n",
    "        episodes.append(nb_eps)\n",
    "    else:\n",
    "        episodes.append(np.nan)\n",
    "\n",
    "    requests_per_second += 1\n",
    "    requests_per_minute += 1\n",
    "\n",
    "    request_counter += 1\n",
    "    print(f\"{request_counter} out of {total_requests} requests completed\")"
   ]
  },
  {
   "cell_type": "code",
   "execution_count": null,
   "metadata": {},
   "outputs": [],
   "source": [
    "episodes_df = pd.DataFrame({\n",
    "    'anime_id': anime_ids,\n",
    "    'episodes': episodes\n",
    "})\n",
    "episodes_df.to_csv('../data/raw/anime_episodes.csv', index=False)"
   ]
  },
  {
   "cell_type": "markdown",
   "metadata": {},
   "source": [
    "# Update score for animes that weren't airing then"
   ]
  },
  {
   "cell_type": "code",
   "execution_count": null,
   "metadata": {},
   "outputs": [],
   "source": [
    "var_names = ['score']\n",
    "\n",
    "df = anime[anime.rating.isna()]\n",
    "\n",
    "anime_ids = []\n",
    "scores = []\n",
    "\n",
    "request_counter = 0\n",
    "total_requests = len(df.index.values)\n",
    "\n",
    "requests_per_minute = 0\n",
    "requests_per_second = 0\n",
    "\n",
    "max_requests_per_second = 2\n",
    "max_requests_per_minute = 59\n",
    "\n",
    "for anime_id in df.index.values:\n",
    "\n",
    "    if requests_per_second == max_requests_per_second:\n",
    "        time.sleep(2.5)\n",
    "        requests_per_second = 0\n",
    "    if requests_per_minute == max_requests_per_minute:\n",
    "        time.sleep(5)\n",
    "        requests_per_minute = 0\n",
    "\n",
    "    data = get_anime_data(anime_id, var_names)\n",
    "    if len(data) > 0:\n",
    "        score = data[0]\n",
    "    else:\n",
    "        score = None\n",
    "    \n",
    "    anime_ids.append(int(anime_id))\n",
    "    if score is not None:\n",
    "        scores.append(score)\n",
    "    else:\n",
    "        scores.append(np.nan)\n",
    "\n",
    "    requests_per_second += 1\n",
    "    requests_per_minute += 1\n",
    "\n",
    "    request_counter += 1\n",
    "    print(f\"{request_counter} out of {total_requests} requests completed\")"
   ]
  },
  {
   "cell_type": "code",
   "execution_count": null,
   "metadata": {},
   "outputs": [],
   "source": [
    "scores_df = pd.DataFrame({\n",
    "    'anime_id': anime_ids,\n",
    "    'scores': scores\n",
    "})\n",
    "scores_df.to_csv('../data/raw/anime_scores.csv', index=False)"
   ]
  }
 ],
 "metadata": {
  "kernelspec": {
   "display_name": "Python 3",
   "language": "python",
   "name": "python3"
  },
  "language_info": {
   "codemirror_mode": {
    "name": "ipython",
    "version": 3
   },
   "file_extension": ".py",
   "mimetype": "text/x-python",
   "name": "python",
   "nbconvert_exporter": "python",
   "pygments_lexer": "ipython3",
   "version": "3.8.10"
  }
 },
 "nbformat": 4,
 "nbformat_minor": 2
}
